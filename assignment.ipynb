{
 "cells": [
  {
   "cell_type": "code",
   "execution_count": 86,
   "metadata": {},
   "outputs": [],
   "source": [
    "import urllib3\n",
    "import pandas as pd"
   ]
  },
  {
   "cell_type": "code",
   "execution_count": 87,
   "metadata": {},
   "outputs": [
    {
     "name": "stderr",
     "output_type": "stream",
     "text": [
      "/Library/Frameworks/Python.framework/Versions/3.6/lib/python3.6/site-packages/urllib3/connectionpool.py:857: InsecureRequestWarning: Unverified HTTPS request is being made. Adding certificate verification is strongly advised. See: https://urllib3.readthedocs.io/en/latest/advanced-usage.html#ssl-warnings\n",
      "  InsecureRequestWarning)\n"
     ]
    }
   ],
   "source": [
    "http = urllib3.PoolManager()\n",
    "r = http.request('GET', 'https://www.sfu.ca/computing/people/faculty.html')"
   ]
  },
  {
   "cell_type": "code",
   "execution_count": 88,
   "metadata": {},
   "outputs": [],
   "source": [
    "from bs4 import BeautifulSoup\n",
    "soup = BeautifulSoup(r.data, 'html.parser')"
   ]
  },
  {
   "cell_type": "code",
   "execution_count": 89,
   "metadata": {},
   "outputs": [],
   "source": [
    "mydivs = soup.findAll(\"div\", {\"class\": \"textimage section\"})\n",
    "staff = pd.DataFrame(columns = ['Name', 'Role', 'Area of Interest'])    "
   ]
  },
  {
   "cell_type": "code",
   "execution_count": 90,
   "metadata": {},
   "outputs": [],
   "source": [
    "count=0\n",
    "for i in mydivs:\n",
    "    tem=i.findAll(\"div\",{\"class\",\"text\"})\n",
    "    name=\"\"\n",
    "    sub=\"\"\n",
    "    area_of_int=\"\"\n",
    "    for j in tem:\n",
    "        name+=j.h4.text.split(\",\")[0]\n",
    "        sub+=j.h4.text.split(\",\")[0]\n",
    "        area_of_int+=j.p.text\n",
    "    staff.loc[count+1]=[name,sub,area_of_int]    \n",
    "    count+=1\n",
    "    \n",
    "    "
   ]
  },
  {
   "cell_type": "code",
   "execution_count": 91,
   "metadata": {},
   "outputs": [
    {
     "data": {
      "text/html": [
       "<div>\n",
       "<style scoped>\n",
       "    .dataframe tbody tr th:only-of-type {\n",
       "        vertical-align: middle;\n",
       "    }\n",
       "\n",
       "    .dataframe tbody tr th {\n",
       "        vertical-align: top;\n",
       "    }\n",
       "\n",
       "    .dataframe thead th {\n",
       "        text-align: right;\n",
       "    }\n",
       "</style>\n",
       "<table border=\"1\" class=\"dataframe\">\n",
       "  <thead>\n",
       "    <tr style=\"text-align: right;\">\n",
       "      <th></th>\n",
       "      <th>Name</th>\n",
       "      <th>Role</th>\n",
       "      <th>Area of Interest</th>\n",
       "    </tr>\n",
       "  </thead>\n",
       "  <tbody>\n",
       "    <tr>\n",
       "      <th>1</th>\n",
       "      <td>Yagiz Aksoy</td>\n",
       "      <td>Yagiz Aksoy</td>\n",
       "      <td>Area: Computational photography, computer grap...</td>\n",
       "    </tr>\n",
       "    <tr>\n",
       "      <th>2</th>\n",
       "      <td>Brad Bart</td>\n",
       "      <td>Brad Bart</td>\n",
       "      <td>Area: Instruction\\n</td>\n",
       "    </tr>\n",
       "    <tr>\n",
       "      <th>3</th>\n",
       "      <td>Angel Chang</td>\n",
       "      <td>Angel Chang</td>\n",
       "      <td>Area: Natural Language Processing, Artificial ...</td>\n",
       "    </tr>\n",
       "    <tr>\n",
       "      <th>4</th>\n",
       "      <td>SHEELAGH CARPENDALE</td>\n",
       "      <td>SHEELAGH CARPENDALE</td>\n",
       "      <td>Area: Information Visualization</td>\n",
       "    </tr>\n",
       "    <tr>\n",
       "      <th>5</th>\n",
       "      <td>LEONID CHINDELEVITCH</td>\n",
       "      <td>LEONID CHINDELEVITCH</td>\n",
       "      <td>Area: Computational Biology</td>\n",
       "    </tr>\n",
       "  </tbody>\n",
       "</table>\n",
       "</div>"
      ],
      "text/plain": [
       "                   Name                  Role  \\\n",
       "1           Yagiz Aksoy           Yagiz Aksoy   \n",
       "2             Brad Bart             Brad Bart   \n",
       "3           Angel Chang           Angel Chang   \n",
       "4   SHEELAGH CARPENDALE   SHEELAGH CARPENDALE   \n",
       "5  LEONID CHINDELEVITCH  LEONID CHINDELEVITCH   \n",
       "\n",
       "                                    Area of Interest  \n",
       "1  Area: Computational photography, computer grap...  \n",
       "2                                Area: Instruction\\n  \n",
       "3  Area: Natural Language Processing, Artificial ...  \n",
       "4                    Area: Information Visualization  \n",
       "5                        Area: Computational Biology  "
      ]
     },
     "execution_count": 91,
     "metadata": {},
     "output_type": "execute_result"
    }
   ],
   "source": [
    "staff.head()"
   ]
  },
  {
   "cell_type": "code",
   "execution_count": null,
   "metadata": {},
   "outputs": [],
   "source": []
  },
  {
   "cell_type": "code",
   "execution_count": null,
   "metadata": {},
   "outputs": [],
   "source": []
  }
 ],
 "metadata": {
  "kernelspec": {
   "display_name": "Python 3",
   "language": "python",
   "name": "python3"
  },
  "language_info": {
   "codemirror_mode": {
    "name": "ipython",
    "version": 3
   },
   "file_extension": ".py",
   "mimetype": "text/x-python",
   "name": "python",
   "nbconvert_exporter": "python",
   "pygments_lexer": "ipython3",
   "version": "3.6.8"
  }
 },
 "nbformat": 4,
 "nbformat_minor": 2
}
